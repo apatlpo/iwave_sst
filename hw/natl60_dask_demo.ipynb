{
 "cells": [
  {
   "cell_type": "markdown",
   "metadata": {},
   "source": [
    "# Load NATL60 data on a dask cluster via xarray"
   ]
  },
  {
   "cell_type": "code",
   "execution_count": null,
   "metadata": {
    "collapsed": true
   },
   "outputs": [],
   "source": [
    "%matplotlib inline\n",
    "\n",
    "import xarray as xr\n",
    "import matplotlib.pyplot as plt\n",
    "from glob import glob\n",
    "\n",
    "# from dask.dot import dot_graph\n",
    "from dask.diagnostics import Profiler, ResourceProfiler, CacheProfiler\n",
    "from dask.diagnostics import visualize\n",
    "\n",
    "from bokeh.io import output_notebook\n",
    "output_notebook()"
   ]
  },
  {
   "cell_type": "code",
   "execution_count": null,
   "metadata": {
    "collapsed": true
   },
   "outputs": [],
   "source": [
    "from dask.distributed import Client\n",
    "client = Client(scheduler_file='scheduler.json')\n",
    "client"
   ]
  },
  {
   "cell_type": "code",
   "execution_count": null,
   "metadata": {
    "collapsed": true
   },
   "outputs": [],
   "source": [
    "datadir='/home/datawork-lops-osi/data/natl60/NATL60-CJM165/1d/3D/'\n",
    "filenames = sorted(glob(dpath+'*_gridT.nc'))\n",
    "print 'Number of files available: %d' %len(filenames)\n",
    "\n",
    "filenames = filenames[:10] # 10000 fails, 5000 passes\n",
    "print 'Number of files processed: %d' %len(filenames)\n",
    "ds = xr.open_mfdataset(filenames, concat_dim='time_counter', compat='equals', autoclose=True, lock=False)\n",
    "\n",
    "#ds = xr.open_mfdataset(filenames, engine='netcdf4', concat_dim='ensemble', chunks={'time': 50})\n",
    "#mask = xr.open_mfdataset(filenames,concat_dim='time', compat='equals', autoclose=True, lock=False)['QA']\n"
   ]
  },
  {
   "cell_type": "code",
   "execution_count": null,
   "metadata": {
    "collapsed": true
   },
   "outputs": [],
   "source": [
    "print('ds size in GB {:0.2f}\\n'.format(ds.nbytes / 1e9))\n",
    "ds.info()"
   ]
  },
  {
   "cell_type": "code",
   "execution_count": null,
   "metadata": {
    "collapsed": true
   },
   "outputs": [],
   "source": [
    "for name, da in ds.data_vars.items():\n",
    "    print(name, da.data)"
   ]
  },
  {
   "cell_type": "code",
   "execution_count": null,
   "metadata": {
    "collapsed": true
   },
   "outputs": [],
   "source": [
    "# We can start by just working with one array, for this example,\n",
    "# we'll can choose t_mean (average daily air temperature)\n",
    "#temp_mean = ds['t_mean'].mean(dim='time')  # calculates the long term mean along the time dimension\n",
    "\n",
    "#spread = temp_mean.max(dim='ensemble') - temp_mean.min(dim='ensemble')  # calculates the intra-ensemble range of long term means\n",
    "#spread"
   ]
  },
  {
   "cell_type": "code",
   "execution_count": null,
   "metadata": {
    "collapsed": true
   },
   "outputs": [],
   "source": [
    "#%time out = spread.compute()\n"
   ]
  },
  {
   "cell_type": "code",
   "execution_count": null,
   "metadata": {
    "collapsed": true
   },
   "outputs": [],
   "source": [
    "# a quick figure to prove to ourselves we actually did something\n",
    "#out.plot(robust=True, figsize=(10, 6))\n",
    "#plt.title('Intra-ensemble range in mean annual temperature')"
   ]
  }
 ],
 "metadata": {
  "kernelspec": {
   "display_name": "Python 2",
   "language": "python",
   "name": "python2"
  },
  "language_info": {
   "codemirror_mode": {
    "name": "ipython",
    "version": 2
   },
   "file_extension": ".py",
   "mimetype": "text/x-python",
   "name": "python",
   "nbconvert_exporter": "python",
   "pygments_lexer": "ipython2",
   "version": "2.7.13"
  }
 },
 "nbformat": 4,
 "nbformat_minor": 1
}
