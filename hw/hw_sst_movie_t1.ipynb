{
 "cells": [
  {
   "cell_type": "markdown",
   "metadata": {},
   "source": [
    "\n",
    "## Print figures of Himawari SST data in regions (distributed)\n"
   ]
  },
  {
   "cell_type": "code",
   "execution_count": 1,
   "metadata": {},
   "outputs": [
    {
     "name": "stderr",
     "output_type": "stream",
     "text": [
      "/home1/datahome/aponte/.miniconda3/envs/equinox/lib/python3.6/site-packages/distributed/utils.py:128: RuntimeWarning: Couldn't detect a suitable IP address for reaching '8.8.8.8', defaulting to '127.0.0.1': [Errno 101] Network is unreachable\n",
      "  % (host, default, e), RuntimeWarning)\n",
      "/home1/datahome/aponte/.miniconda3/envs/equinox/lib/python3.6/site-packages/cmocean/tools.py:76: MatplotlibDeprecationWarning: The is_string_like function was deprecated in version 2.1.\n",
      "  if not mpl.cbook.is_string_like(rgbin[0]):\n"
     ]
    },
    {
     "name": "stdout",
     "output_type": "stream",
     "text": [
      "satpy not available\n"
     ]
    }
   ],
   "source": [
    "import os, sys, shutil\n",
    "from glob import glob\n",
    "#\n",
    "%matplotlib inline\n",
    "#matplotlib.use('agg')\n",
    "import matplotlib.pyplot as plt\n",
    "import xarray as xr\n",
    "from dask_jobqueue import PBSCluster\n",
    "from dask.distributed import Client\n",
    "from dask import compute, delayed\n",
    "# \n",
    "from datetime import datetime\n",
    "import pandas as pd\n",
    "#\n",
    "from hw.utils import *"
   ]
  },
  {
   "cell_type": "code",
   "execution_count": 2,
   "metadata": {},
   "outputs": [],
   "source": [
    "# launch cluster and workers\n",
    "\n",
    "# folder where data is spilled when RAM is filled up\n",
    "#local_dir = os.getenv('HOME')+'/dask_scratch/'\n",
    "#local_dir = os.getenv('SCRATCH')+'/dask_scratch/'\n",
    "#local_dir = os.getenv('DATAWORK')+'/dask_scratch/'\n",
    "local_dir = os.getenv('TMPDIR')\n",
    "#\n",
    "cluster = PBSCluster(queue='mpi_1', local_directory=local_dir, interface='ib0', walltime='24:00:00',\n",
    "                     threads=14, processes=2, memory='50GB', resource_spec='select=1:ncpus=28:mem=100g', \n",
    "                     death_timeout=100)\n"
   ]
  },
  {
   "cell_type": "code",
   "execution_count": 3,
   "metadata": {},
   "outputs": [
    {
     "data": {
      "text/plain": [
       "[2, 3, 4, 5]"
      ]
     },
     "execution_count": 3,
     "metadata": {},
     "output_type": "execute_result"
    }
   ],
   "source": [
    "cluster.start_workers(4)"
   ]
  },
  {
   "cell_type": "code",
   "execution_count": 5,
   "metadata": {},
   "outputs": [
    {
     "data": {
      "text/plain": [
       "<Scheduler: \"tcp://10.148.1.112:48239\" processes: 8 cores: 112>"
      ]
     },
     "execution_count": 5,
     "metadata": {},
     "output_type": "execute_result"
    }
   ],
   "source": [
    "cluster.scheduler"
   ]
  },
  {
   "cell_type": "code",
   "execution_count": 6,
   "metadata": {},
   "outputs": [],
   "source": [
    "### get dask handles and check dask server status\n",
    "client = Client(cluster)"
   ]
  },
  {
   "cell_type": "code",
   "execution_count": 7,
   "metadata": {},
   "outputs": [
    {
     "data": {
      "text/html": [
       "<table style=\"border: 2px solid white;\">\n",
       "<tr>\n",
       "<td style=\"vertical-align: top; border: 0px solid white\">\n",
       "<h3>Client</h3>\n",
       "<ul>\n",
       "  <li><b>Scheduler: </b>tcp://10.148.1.112:48239\n",
       "  <li><b>Dashboard: </b><a href='http://10.148.1.112:51877/status' target='_blank'>http://10.148.1.112:51877/status</a>\n",
       "</ul>\n",
       "</td>\n",
       "<td style=\"vertical-align: top; border: 0px solid white\">\n",
       "<h3>Cluster</h3>\n",
       "<ul>\n",
       "  <li><b>Workers: </b>8</li>\n",
       "  <li><b>Cores: </b>112</li>\n",
       "  <li><b>Memory: </b>400.00 GB</li>\n",
       "</ul>\n",
       "</td>\n",
       "</tr>\n",
       "</table>"
      ],
      "text/plain": [
       "<Client: scheduler='tcp://10.148.1.112:48239' processes=8 cores=112>"
      ]
     },
     "execution_count": 7,
     "metadata": {},
     "output_type": "execute_result"
    }
   ],
   "source": [
    "client"
   ]
  },
  {
   "cell_type": "code",
   "execution_count": 8,
   "metadata": {},
   "outputs": [
    {
     "name": "stdout",
     "output_type": "stream",
     "text": [
      "Number of files available: 54904\n",
      "Number of files processed: 1842\n"
     ]
    }
   ],
   "source": [
    "# data path\n",
    "region = 'NWA'; vmin = 20.; vmax = 35.\n",
    "region = 'NWAM'; vmin = 26.; vmax = 32.\n",
    "region = 'WA'; t1, t2, suff, vmin, vmax, slat, slon = datetime(2016,9,3), datetime(2016,9,16), '_t1z', 23., 30., slice(-12,-24), slice(108,126)\n",
    "\n",
    "#\n",
    "dpath = '/home/datawork-lops-osi/data/hw/sst/'+region+'/';\n",
    "#figdir = '/home1/datawork/aponte/hw/figs/'\n",
    "\n",
    "filenames = sorted(glob(dpath+region+'_*.nc'))\n",
    "print('Number of files available: %d' %len(filenames))\n",
    "Nfiles = len(filenames)\n",
    "# tmp, subset number of files (skip last file that may be incomplete)\n",
    "#filenames = filenames[:-1]\n",
    "\n",
    "# consider a time subset\n",
    "times = [datetime.strptime(f,dpath+region+'_%Y%m%d%H%M.nc') for f in filenames]\n",
    "if 't1' in locals() and 't2' in locals():\n",
    "    filenames  = [f for f,t in zip(filenames,times) if (t>t1) and (t<t2)]\n",
    "print('Number of files processed: %d' %len(filenames))"
   ]
  },
  {
   "cell_type": "code",
   "execution_count": 9,
   "metadata": {},
   "outputs": [
    {
     "name": "stdout",
     "output_type": "stream",
     "text": [
      "CPU times: user 32 s, sys: 2.75 s, total: 34.7 s\n",
      "Wall time: 1min 16s\n",
      "SST dataset size: 4.4 GB\n"
     ]
    }
   ],
   "source": [
    "# open files\n",
    "%time ds = xr.open_mfdataset(filenames, concat_dim='time', compat='equals')\n",
    "\n",
    "# spatial zoom\n",
    "if 'slat' in locals():\n",
    "    ds = ds.sel(lat=slat)\n",
    "\n",
    "# sst in degC\n",
    "ds['sea_surface_temperature'] += -273.15\n",
    "ds['sea_surface_temperature'] = ds['sea_surface_temperature'].where(ds['sea_surface_temperature']>0)\n",
    "\n",
    "print('SST dataset size: %.1f GB' %(ds['sea_surface_temperature'].nbytes/1e9))"
   ]
  },
  {
   "cell_type": "code",
   "execution_count": 10,
   "metadata": {},
   "outputs": [
    {
     "data": {
      "text/plain": [
       "<xarray.Dataset>\n",
       "Dimensions:                  (lat: 601, lon: 1001, time: 1842)\n",
       "Coordinates:\n",
       "  * lat                      (lat) float32 -12.0 -12.019997 -12.040001 ...\n",
       "  * lon                      (lon) float32 105.0 105.02 105.04 105.06 105.08 ...\n",
       "  * time                     (time) datetime64[ns] 2016-09-03T00:10:17 ...\n",
       "Data variables:\n",
       "    sea_surface_temperature  (time, lat, lon) float32 dask.array<shape=(1842, 601, 1001), chunksize=(1, 601, 1001)>\n",
       "    wind_speed               (time, lat, lon) float32 dask.array<shape=(1842, 601, 1001), chunksize=(1, 601, 1001)>\n",
       "    solar_zenith_angle       (time, lat, lon) float32 dask.array<shape=(1842, 601, 1001), chunksize=(1, 601, 1001)>\n",
       "Attributes:\n",
       "    Conventions:                CF-1.4,Unidata Observation Dataset v1.0\n",
       "    title:                      Sea Surface Temperature from AHI onboard Hima...\n",
       "    summary:                    TBD\n",
       "    references:                 TBD\n",
       "    institution:                Japan Aerospace Exploration Agency(JAXA)\n",
       "    history:                    L2P data file originally produced by JAXA\n",
       "    comment:                    SST from AHI\n",
       "    license:                    GHRSST protocol describes data use as free an...\n",
       "    id:                         H08_AHI-JAXA-L2P-v01.2\n",
       "    naming_authority:           org.ghrsst\n",
       "    product_version:            1.2\n",
       "    uuid:                       9ed3f063-940f-4def-9325-05edeb4d400c\n",
       "    algorithm_version:          1.02\n",
       "    contact:                    ghrsst@eorc.jaxa.jp\n",
       "    gds_version_id:             02.0\n",
       "    netcdf_version_id:          4.3.2\n",
       "    date_created:               20160905T165347Z\n",
       "    file_quality_level:         1\n",
       "    spatial_resolution:         0.02 deg\n",
       "    start_time:                 20160903T001000Z\n",
       "    time_coverage_start:        20160903T001000Z\n",
       "    stop_time:                  20160903T002000Z\n",
       "    time_coverage_end:          20160903T002000Z\n",
       "    northernmost_latitude:      60.0\n",
       "    southernmost_latitude:      -60.0\n",
       "    easternmost_longitude:      80.0\n",
       "    westernmost_longitude:      -20.0\n",
       "    source:                     AHI_L2_SST,OISST,ECMWF,AMSR2_L3_SIC\n",
       "    platform:                   Himawari-8\n",
       "    sensor:                     AHI\n",
       "    Metadata_Conventions:       Unidata Observation Dataset v1.0\n",
       "    metadata_link:              TBD\n",
       "    keywords:                   Oceans > Ocean Temperature > Sea Surface Temp...\n",
       "    keywords_vocabulary:        NASA Global Change Master Directory (GCMD)\n",
       "    standard_name_vocabulary:   NetCDF Climate and Forecast (CF) Metadata Con...\n",
       "    geospatial_lat_units:       degrees north\n",
       "    geospatial_lat_resolution:  0.02\n",
       "    geospatial_lon_units:       degrees east\n",
       "    geospatial_lon_resolution:  0.02\n",
       "    acknowledgment:             Please acknowledge the use of these data with...\n",
       "    creator_name:               Japan Aerospace Exploration Agency\n",
       "    creator_email:              ghrsst@eorc.jaxa.jp\n",
       "    creator_url:                http://www.eorc.jaxa.jp/en/index.php\n",
       "    project:                    Group for High Resolution Sea Surface Tempera...\n",
       "    publisher_name:             The GHRSST Project Office\n",
       "    publisher_email:            ghrsst-po@nceo.ac.uk\n",
       "    publisher_url:              http://www.ghrsst.org\n",
       "    processing_level:           L2P\n",
       "    cdm_data_type:              grid"
      ]
     },
     "execution_count": 10,
     "metadata": {},
     "output_type": "execute_result"
    }
   ],
   "source": [
    "ds"
   ]
  },
  {
   "cell_type": "markdown",
   "metadata": {},
   "source": [
    "---\n",
    "\n",
    "# make movie\n",
    "\n",
    "This is the best option to my opinion"
   ]
  },
  {
   "cell_type": "code",
   "execution_count": 14,
   "metadata": {},
   "outputs": [],
   "source": [
    "\n",
    "figdir = '/home1/datawork/aponte/hw/figs/'\n",
    "shutil.rmtree(figdir); os.mkdir(figdir)\n",
    "\n",
    "def process(lds, i, overwrite=True):\n",
    "    sst = lds['sea_surface_temperature']\n",
    "    #\n",
    "    time = pd.to_datetime(str(sst['time'].values))\n",
    "    figname = figdir+'hw_sst_'+region+'_'+time.strftime('%Y%m%d_%H%M')+suff+'.png'\n",
    "    #\n",
    "    if not os.path.isfile(figname) or overwrite:\n",
    "        #\n",
    "        title = time.strftime('%Y%m%d_%H%M')\n",
    "        plot_sst(sst, colorbar=False, title=title, savefig=figname, vmin=vmin, vmax=vmax, \n",
    "                 offline=True, coast_resolution='50m', figsize=(15,10))\n",
    "        #\n",
    "        m = float(sst.mean().values)\n",
    "    else:\n",
    "        m = -1.\n",
    "    return m\n",
    "\n",
    "I = range(len(ds['time']))\n",
    "#I = range(100)\n",
    "values = [delayed(process)(ds.isel(time=i), i) for i in I]\n"
   ]
  },
  {
   "cell_type": "code",
   "execution_count": 15,
   "metadata": {},
   "outputs": [],
   "source": [
    "%time results = compute(*values, get=client.get)"
   ]
  },
  {
   "cell_type": "code",
   "execution_count": 16,
   "metadata": {},
   "outputs": [
    {
     "data": {
      "text/plain": [
       "[<matplotlib.lines.Line2D at 0x2aab166255c0>]"
      ]
     },
     "execution_count": 16,
     "metadata": {},
     "output_type": "execute_result"
    },
    {
     "data": {
      "image/png": "[encoded data removed]",
      "text/plain": [
       "<Figure size 432x288 with 1 Axes>"
      ]
     },
     "metadata": {},
     "output_type": "display_data"
    }
   ],
   "source": [
    "plt.plot(results)"
   ]
  },
  {
   "cell_type": "markdown",
   "metadata": {},
   "source": [
    "---\n",
    "\n",
    "# alternative movie making with apply_ufunc\n",
    "\n",
    "This option is less elegant"
   ]
  },
  {
   "cell_type": "code",
   "execution_count": 24,
   "metadata": {},
   "outputs": [
    {
     "data": {
      "text/plain": [
       "1842"
      ]
     },
     "execution_count": 24,
     "metadata": {},
     "output_type": "execute_result"
    }
   ],
   "source": [
    "\n",
    "# with apply_ufunc\n",
    "def process(T, lon, lat, time):\n",
    "    #\n",
    "    #plot_sst(sst, colorbar=False, title=title, savefig=figname, \n",
    "    #         vmin=vmin, vmax=vmax, offline=True, coast_resolution='50m', figsize=(15,10))\n",
    "    #\n",
    "    plt.switch_backend('agg')\n",
    "    fig = plt.figure()\n",
    "    ax = fig.add_subplot(111)\n",
    "    ax.imshow(T.squeeze())\n",
    "    #figname = figdir+'hw_sst_'+region+'_'+time.strftime('%Y%m%d_%H%M')+suff+'.png'    \n",
    "    figname = figdir+'hw_sst_'+region+'_'+str(time)+'.png'    \n",
    "    fig.savefig(figname, dpi=150)\n",
    "    plt.close(fig)\n",
    "    #\n",
    "    m = np.nanmean(np.nanmean(T,axis=1),axis=1)\n",
    "    return m\n",
    "    \n",
    "M = xr.apply_ufunc(process, ds['sea_surface_temperature'].isel(time=slice(0,10)), \n",
    "                   ds['lon'], ds['lat'], ds['time'].isel(time=slice(0,10)),\n",
    "                   input_core_dims=[['lon','lat'],['lon'],['lat'],[]], \n",
    "                   dask='parallelized', output_dtypes=[float])\n",
    "\n",
    "print(M)"
   ]
  },
  {
   "cell_type": "code",
   "execution_count": null,
   "metadata": {},
   "outputs": [],
   "source": [
    "M.compute()"
   ]
  },
  {
   "cell_type": "markdown",
   "metadata": {},
   "source": [
    "---\n",
    "\n",
    "# info, shutdown"
   ]
  },
  {
   "cell_type": "code",
   "execution_count": 17,
   "metadata": {},
   "outputs": [
    {
     "data": {
      "text/html": [
       "<table style=\"border: 2px solid white;\">\n",
       "<tr>\n",
       "<td style=\"vertical-align: top; border: 0px solid white\">\n",
       "<h3>Client</h3>\n",
       "<ul>\n",
       "  <li><b>Scheduler: </b>tcp://10.148.1.112:48239\n",
       "  <li><b>Dashboard: </b><a href='http://10.148.1.112:51877/status' target='_blank'>http://10.148.1.112:51877/status</a>\n",
       "</ul>\n",
       "</td>\n",
       "<td style=\"vertical-align: top; border: 0px solid white\">\n",
       "<h3>Cluster</h3>\n",
       "<ul>\n",
       "  <li><b>Workers: </b>8</li>\n",
       "  <li><b>Cores: </b>112</li>\n",
       "  <li><b>Memory: </b>400.00 GB</li>\n",
       "</ul>\n",
       "</td>\n",
       "</tr>\n",
       "</table>"
      ],
      "text/plain": [
       "<Client: scheduler='tcp://10.148.1.112:48239' processes=8 cores=112>"
      ]
     },
     "execution_count": 17,
     "metadata": {},
     "output_type": "execute_result"
    }
   ],
   "source": [
    "client"
   ]
  },
  {
   "cell_type": "code",
   "execution_count": null,
   "metadata": {},
   "outputs": [],
   "source": [
    "client.restart()"
   ]
  },
  {
   "cell_type": "code",
   "execution_count": 18,
   "metadata": {},
   "outputs": [],
   "source": [
    "client.close()\n",
    "cluster.stop_workers(cluster.jobs)"
   ]
  },
  {
   "cell_type": "code",
   "execution_count": null,
   "metadata": {},
   "outputs": [],
   "source": []
  }
 ],
 "metadata": {
  "kernelspec": {
   "display_name": "Python 3",
   "language": "python",
   "name": "python3"
  },
  "language_info": {
   "codemirror_mode": {
    "name": "ipython",
    "version": 3
   },
   "file_extension": ".py",
   "mimetype": "text/x-python",
   "name": "python",
   "nbconvert_exporter": "python",
   "pygments_lexer": "ipython3",
   "version": "3.6.5"
  }
 },
 "nbformat": 4,
 "nbformat_minor": 2
}
