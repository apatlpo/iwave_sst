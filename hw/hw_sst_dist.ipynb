{
 "cells": [
  {
   "cell_type": "markdown",
   "metadata": {},
   "source": [
    "\n",
    "## Print figures of Himawari SST data in regions (distributed)\n"
   ]
  },
  {
   "cell_type": "code",
   "execution_count": 1,
   "metadata": {},
   "outputs": [
    {
     "name": "stderr",
     "output_type": "stream",
     "text": [
      "/home1/datahome/aponte/.miniconda3/envs/pangeo/lib/python3.6/site-packages/distributed/utils.py:121: RuntimeWarning: Couldn't detect a suitable IP address for reaching '8.8.8.8', defaulting to '127.0.0.1': [Errno 101] Network is unreachable\n",
      "  % (host, default, e), RuntimeWarning)\n",
      "/home1/datahome/aponte/.miniconda3/envs/pangeo/lib/python3.6/site-packages/cmocean/tools.py:76: MatplotlibDeprecationWarning: The is_string_like function was deprecated in version 2.1.\n",
      "  if not mpl.cbook.is_string_like(rgbin[0]):\n"
     ]
    },
    {
     "name": "stdout",
     "output_type": "stream",
     "text": [
      "satpy not available\n"
     ]
    }
   ],
   "source": [
    "import os,sys\n",
    "from glob import glob\n",
    "#\n",
    "import xarray as xr\n",
    "from dask import compute, delayed\n",
    "from dask.distributed import Client\n",
    "# \n",
    "from datetime import datetime\n",
    "#\n",
    "from utils import *"
   ]
  },
  {
   "cell_type": "code",
   "execution_count": 2,
   "metadata": {},
   "outputs": [],
   "source": [
    "### get dask handles and check dask server status\n",
    "client = Client(scheduler_file=os.path.expanduser('/home1/datawork/aponte/dask/scheduler.json'))\n",
    "client.restart()\n",
    "# upload utils.py to workers\n",
    "client.upload_file('utils.py')"
   ]
  },
  {
   "cell_type": "code",
   "execution_count": 3,
   "metadata": {},
   "outputs": [
    {
     "data": {
      "text/html": [
       "<table style=\"border: 2px solid white;\">\n",
       "<tr>\n",
       "<td style=\"vertical-align: top; border: 0px solid white\">\n",
       "<h3>Client</h3>\n",
       "<ul>\n",
       "  <li><b>Scheduler: </b>tcp://10.148.1.0:8786\n",
       "  <li><b>Dashboard: </b><a href='http://10.148.1.0:8787' target='_blank'>http://10.148.1.0:8787</a>\n",
       "</ul>\n",
       "</td>\n",
       "<td style=\"vertical-align: top; border: 0px solid white\">\n",
       "<h3>Cluster</h3>\n",
       "<ul>\n",
       "  <li><b>Workers: </b>62</li>\n",
       "  <li><b>Cores: </b>248</li>\n",
       "  <li><b>Memory: </b>620.00 GB</li>\n",
       "</ul>\n",
       "</td>\n",
       "</tr>\n",
       "</table>"
      ],
      "text/plain": [
       "<Client: scheduler='tcp://10.148.1.0:8786' processes=62 cores=248>"
      ]
     },
     "execution_count": 3,
     "metadata": {},
     "output_type": "execute_result"
    }
   ],
   "source": [
    "client"
   ]
  },
  {
   "cell_type": "code",
   "execution_count": 4,
   "metadata": {},
   "outputs": [
    {
     "name": "stdout",
     "output_type": "stream",
     "text": [
      "Number of files available: 1843\n",
      "Number of files processed: 1843\n"
     ]
    }
   ],
   "source": [
    "# data path\n",
    "region = 'NWA'; vmin = 20.; vmax = 35.\n",
    "region = 'NWAM'; vmin = 26.; vmax = 32.\n",
    "region = 'WA'; vmin = 20.; vmax = 35.\n",
    "\n",
    "#\n",
    "dpath = '/home/datawork-lops-osi/data/hw/sst/'+region+'/';\n",
    "figdir = '/home1/datawork/aponte/hw/figs/'\n",
    "\n",
    "filenames = sorted(glob(dpath+region+'_*.nc'))\n",
    "print('Number of files available: %d' %len(filenames))\n",
    "Nfiles = len(filenames)\n",
    "# tmp, subset number of files (skip last file that may be incomplete)\n",
    "#filenames = filenames[:-1]\n",
    "\n",
    "# consider a time subset\n",
    "times = [datetime.strptime(f,dpath+region+'_%Y%m%d%H%M.nc') for f in filenames]\n",
    "#\n",
    "if False:\n",
    "    t1, t2, suff, vmin, vmax = datetime(2017,5,3), datetime(2017,5,7), '_t0', 27.5, 30.\n",
    "    #\n",
    "    filenames  = [f for f,t in zip(filenames,times) if (t>t1) and (t<t2)]\n",
    "else:\n",
    "    suff = ''\n",
    "\n",
    "print('Number of files processed: %d' %len(filenames))"
   ]
  },
  {
   "cell_type": "code",
   "execution_count": 5,
   "metadata": {},
   "outputs": [],
   "source": [
    "\n",
    "def process(f,i, overwrite):\n",
    "    #\n",
    "    time = datetime.strptime(f,dpath+region+'_%Y%m%d%H%M.nc')\n",
    "    figname = figdir+'hw_sst_'+region+'_'+time.strftime('%Y%m%d_%H%M')+suff+'.png'\n",
    "    #\n",
    "    if not os.path.isfile(figname) or overwrite:\n",
    "        # open file\n",
    "        sst = xr.open_dataset(f)['sea_surface_temperature'].isel(time=0)-273.15\n",
    "        #\n",
    "        title = time.strftime('%Y%m%d_%H%M')\n",
    "        plot_sst(sst, colorbar=False, title=title, savefig=figname, vmin=vmin, vmax=vmax, offline=True, coast_resolution='50m')\n",
    "        #\n",
    "        m = float(sst.mean().values)\n",
    "    else:\n",
    "        m = -1.\n",
    "    #\n",
    "    return m\n"
   ]
  },
  {
   "cell_type": "code",
   "execution_count": 6,
   "metadata": {},
   "outputs": [],
   "source": [
    "# computation starts here\n",
    "values = [delayed(process)(f,i, True) for i,f in enumerate(filenames[:])]\n",
    "results = compute(*values, get=client.get)"
   ]
  },
  {
   "cell_type": "code",
   "execution_count": 7,
   "metadata": {},
   "outputs": [
    {
     "data": {
      "image/png": "[encoded data removed]",
      "text/plain": [
       "<matplotlib.figure.Figure at 0x2aaadb4c6a58>"
      ]
     },
     "metadata": {},
     "output_type": "display_data"
    }
   ],
   "source": [
    "# plot first days of domain averaged values\n",
    "import matplotlib.pyplot as plt\n",
    "plt.figure()\n",
    "plt.plot(results[:])\n",
    "plt.show()"
   ]
  },
  {
   "cell_type": "code",
   "execution_count": 8,
   "metadata": {
    "collapsed": true
   },
   "outputs": [
    {
     "name": "stdout",
     "output_type": "stream",
     "text": [
      "ffmpeg -y -r 20 -pattern_type glob -i  '/home1/datawork/aponte/hw/figs/hw_sst_WA*.png'  hw_sst_WA.mp4\n"
     ]
    }
   ],
   "source": [
    "# make movie\n",
    "print('ffmpeg -y -r 20 -pattern_type glob -i  \\''+figdir+'hw_sst_'+region+'*'+suff+'.png\\'  hw_sst_'+region+suff+'.mp4')"
   ]
  },
  {
   "cell_type": "code",
   "execution_count": null,
   "metadata": {},
   "outputs": [],
   "source": []
  }
 ],
 "metadata": {
  "kernelspec": {
   "display_name": "Python 3",
   "language": "python",
   "name": "python3"
  },
  "language_info": {
   "codemirror_mode": {
    "name": "ipython",
    "version": 3
   },
   "file_extension": ".py",
   "mimetype": "text/x-python",
   "name": "python",
   "nbconvert_exporter": "python",
   "pygments_lexer": "ipython3",
   "version": "3.6.3"
  }
 },
 "nbformat": 4,
 "nbformat_minor": 2
}
