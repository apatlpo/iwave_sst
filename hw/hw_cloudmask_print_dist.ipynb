{
 "cells": [
  {
   "cell_type": "markdown",
   "metadata": {},
   "source": [
    "\n",
    "## Print figures of coarsened Himawari cloud mask (distributed)\n"
   ]
  },
  {
   "cell_type": "code",
   "execution_count": 1,
   "metadata": {},
   "outputs": [
    {
     "name": "stderr",
     "output_type": "stream",
     "text": [
      "/home1/datahome/aponte/.miniconda3/envs/pangeo/lib/python3.6/site-packages/distributed/utils.py:121: RuntimeWarning: Couldn't detect a suitable IP address for reaching '8.8.8.8', defaulting to '127.0.0.1': [Errno 101] Network is unreachable\n",
      "  % (host, default, e), RuntimeWarning)\n"
     ]
    }
   ],
   "source": [
    "import os,sys\n",
    "from glob import glob\n",
    "#\n",
    "import xarray as xr\n",
    "from dask import compute, delayed\n",
    "from dask.distributed import Client\n",
    "# \n",
    "from datetime import datetime\n",
    "#\n",
    "from utils import *"
   ]
  },
  {
   "cell_type": "code",
   "execution_count": 2,
   "metadata": {},
   "outputs": [],
   "source": [
    "### get dask handles and check dask server status\n",
    "client = Client(scheduler_file=os.path.expanduser('/home1/datawork/aponte/dask/scheduler.json'))\n",
    "client.restart()\n",
    "# upload utils.py to workers\n",
    "client.upload_file('utils.py')"
   ]
  },
  {
   "cell_type": "code",
   "execution_count": 3,
   "metadata": {},
   "outputs": [
    {
     "data": {
      "text/html": [
       "<table style=\"border: 2px solid white;\">\n",
       "<tr>\n",
       "<td style=\"vertical-align: top; border: 0px solid white\">\n",
       "<h3>Client</h3>\n",
       "<ul>\n",
       "  <li><b>Scheduler: </b>tcp://10.148.1.18:8786\n",
       "  <li><b>Dashboard: </b><a href='http://10.148.1.18:8787' target='_blank'>http://10.148.1.18:8787</a>\n",
       "</ul>\n",
       "</td>\n",
       "<td style=\"vertical-align: top; border: 0px solid white\">\n",
       "<h3>Cluster</h3>\n",
       "<ul>\n",
       "  <li><b>Workers: </b>34</li>\n",
       "  <li><b>Cores: </b>136</li>\n",
       "  <li><b>Memory: </b>340.00 GB</li>\n",
       "</ul>\n",
       "</td>\n",
       "</tr>\n",
       "</table>"
      ],
      "text/plain": [
       "<Client: scheduler='tcp://10.148.1.18:8786' processes=34 cores=136>"
      ]
     },
     "execution_count": 3,
     "metadata": {},
     "output_type": "execute_result"
    }
   ],
   "source": [
    "client"
   ]
  },
  {
   "cell_type": "code",
   "execution_count": 5,
   "metadata": {},
   "outputs": [
    {
     "name": "stdout",
     "output_type": "stream",
     "text": [
      "Number of files available: 29780\n",
      "Number of files processed: 29779\n"
     ]
    }
   ],
   "source": [
    "# data path\n",
    "dpath = '/home/datawork-lops-osi/data/hw/mask/';\n",
    "figdir = '/home1/datawork/aponte/hw/figs/'\n",
    "\n",
    "filenames = sorted(glob(dpath+'*.nc'))\n",
    "print('Number of files available: %d' %len(filenames))\n",
    "Nfiles = len(filenames)\n",
    "# tmp, subset number of files (skip last file that may be incomplete)\n",
    "filenames = filenames[:-1] \n",
    "print('Number of files processed: %d' %len(filenames))\n"
   ]
  },
  {
   "cell_type": "code",
   "execution_count": 6,
   "metadata": {},
   "outputs": [],
   "source": [
    "# coarsen factor [deg]\n",
    "dl = 0.5\n",
    "chunks={'longitude': 200}\n",
    "\n",
    "def process(f,i):\n",
    "    #\n",
    "    time = datetime.strptime(f,dpath+'NC_H08_%Y%m%d_%H%M_L2CLPbet_FLDK.02401_02401.nc')\n",
    "    figname = figdir+'hw_cmask_'+time.strftime('%Y%m%d_%H%M')+'.png'\n",
    "    #\n",
    "    if not os.path.isfile(figname):    \n",
    "        # open file\n",
    "        mask = xr.open_dataset(f)['QA']\n",
    "        #s = str(mask)\n",
    "        # massage the mask to get cloud flag\n",
    "        fmask = process_raw_mask(mask)\n",
    "        #mask.close()\n",
    "        #del mask\n",
    "        # coarsen fields\n",
    "        cmask = coarsen(fmask, dl, chunks) # passes for 1000 files\n",
    "        #s += str(cmask)\n",
    "        #\n",
    "        title = time.strftime('%Y%m%d_%H%M')\n",
    "        #plot_mask(cmask['QA'], colorbar=False, title=str(time), savefig=figname) # str(time) breaks with exception was never retrieved: Traceback\n",
    "        plot_mask(cmask['QA'], colorbar=False, title=title, savefig=figname) # crashes with colorbar=True\n",
    "        #\n",
    "        #m = float(fmask.mean().values)\n",
    "        m = float(cmask['QA'].mean().values)\n",
    "    else:\n",
    "        m = -1.\n",
    "    #\n",
    "    #return s\n",
    "    return m\n"
   ]
  },
  {
   "cell_type": "code",
   "execution_count": 7,
   "metadata": {},
   "outputs": [
    {
     "name": "stdout",
     "output_type": "stream",
     "text": [
      "(-1.0, -1.0, -1.0, -1.0, -1.0, -1.0, -1.0, -1.0, -1.0, -1.0)\n"
     ]
    }
   ],
   "source": [
    "values = [delayed(process)(f,i) for i,f in enumerate(filenames)]\n",
    "results = compute(*values, get=client.get)\n",
    "print(results[:10])"
   ]
  },
  {
   "cell_type": "code",
   "execution_count": 8,
   "metadata": {},
   "outputs": [
    {
     "data": {
      "image/png": "[encoded data removed]",
      "text/plain": [
       "<matplotlib.figure.Figure at 0x2aaae468b9b0>"
      ]
     },
     "metadata": {},
     "output_type": "display_data"
    }
   ],
   "source": [
    "# plot first days of domain averaged values\n",
    "import matplotlib.pyplot as plt\n",
    "plt.figure()\n",
    "plt.plot(results[:1000])\n",
    "plt.show()"
   ]
  },
  {
   "cell_type": "code",
   "execution_count": 9,
   "metadata": {
    "collapsed": true
   },
   "outputs": [
    {
     "name": "stdout",
     "output_type": "stream",
     "text": [
      "ffmpeg -y -r 4 -pattern_type glob -i  '/home1/datawork/aponte/hw/figs/hw_cmask*.png'  hw_cmask.mp4\n"
     ]
    }
   ],
   "source": [
    "# make movie\n",
    "print('ffmpeg -y -r 4 -pattern_type glob -i  \\''+figdir+'hw_cmask*.png\\'  hw_cmask.mp4')"
   ]
  },
  {
   "cell_type": "code",
   "execution_count": null,
   "metadata": {},
   "outputs": [],
   "source": []
  }
 ],
 "metadata": {
  "kernelspec": {
   "display_name": "Python 3",
   "language": "python",
   "name": "python3"
  },
  "language_info": {
   "codemirror_mode": {
    "name": "ipython",
    "version": 3
   },
   "file_extension": ".py",
   "mimetype": "text/x-python",
   "name": "python",
   "nbconvert_exporter": "python",
   "pygments_lexer": "ipython3",
   "version": "3.6.3"
  }
 },
 "nbformat": 4,
 "nbformat_minor": 2
}
