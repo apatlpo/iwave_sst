{
 "cells": [
  {
   "cell_type": "markdown",
   "metadata": {},
   "source": [
    "\n",
    "## Play with Himawari cloud mask, group data by bins\n"
   ]
  },
  {
   "cell_type": "code",
   "execution_count": 2,
   "metadata": {},
   "outputs": [],
   "source": [
    "import os,sys\n",
    "from glob import glob\n",
    "#\n",
    "import xarray as xr\n",
    "import dask.array as da\n",
    "#from dask.distributed import Client\n",
    "from dask.dot import dot_graph\n",
    "# \n",
    "import numpy as np\n",
    "import cartopy.crs as ccrs\n",
    "import matplotlib.pyplot as plt\n",
    "from datetime import datetime\n",
    "\n"
   ]
  },
  {
   "cell_type": "code",
   "execution_count": 5,
   "metadata": {},
   "outputs": [
    {
     "name": "stdout",
     "output_type": "stream",
     "text": [
      "Number of files available: 23377\n",
      "<xarray.DataArray 'QA' (latitude: 2401, longitude: 2401)>\n",
      "dask.array<xarray-<this-array>, shape=(2401, 2401), dtype=float64, chunksize=(100, 150)>\n",
      "Coordinates:\n",
      "  * latitude   (latitude) float32 60.0 59.95 59.9 59.85 59.8 59.75 59.7 ...\n",
      "  * longitude  (longitude) float32 80.0 80.05 80.1 80.15 80.2 80.25 80.3 ...\n",
      "Attributes:\n",
      "    long_name:    Quality Assurance\n",
      "    units:        Dimensionless\n",
      "    valid_min:    0\n",
      "    valid_max:    65535\n",
      "    description:  (2,1,0) Cloud Retrieval Algorithm Flag: 000=Outside of Scan...\n"
     ]
    }
   ],
   "source": [
    "# data path\n",
    "dpath = '/home1/scratch/aponte/hw/mask/';\n",
    "\n",
    "filenames = sorted(glob(dpath+'*.nc'))\n",
    "print 'Number of files available: %d' %len(filenames)\n",
    "Nfiles = len(filenames)\n",
    "\n",
    "mask = xr.open_dataset(filenames[0])['QA']\n",
    "mask = mask.chunk(chunks={'longitude':150,'latitude':100})\n",
    "\n",
    "# build time line from filenames and store ut ub tule coordinate\n",
    "#fname_pref='NC_H08_'+YYYYMM+DD+'_'+hh+mm+'_L2CLPbet_FLDK.02401_02401.nc'\n",
    "time = [datetime.strptime(f,dpath+'NC_H08_%Y%m%d_%H%M_L2CLPbet_FLDK.02401_02401.nc') for f in filenames]\n",
    "\n",
    "print mask"
   ]
  },
  {
   "cell_type": "code",
   "execution_count": 36,
   "metadata": {},
   "outputs": [],
   "source": [
    "# massage the mask to get cloud flag\n",
    "rint = xr.ufuncs.rint\n",
    "fmod = xr.ufuncs.fmod\n",
    "\n",
    "def process_mask(mask):\n",
    "    #QA:description = \"\n",
    "    #(2,1,0) Cloud Retrieval Algorithm Flag: 000=Outside of Scan, 001=No Cloud Mask,\n",
    "    #        010=Clear, 011=Failed, 100=Successful: Low Confidence, 101=Successful: High Confidence, 110=TBD, 111=TBD; \n",
    "    #(4,3) Cloud Mask Confidence Level Flag: 00=Clear, 01=Probably Clear, 10=Probably Cloudy, 11=Cloudy; \n",
    "    #(6,5) Cloud Retrieval Phase Flag: 00=Clear, 01=Liquid Water, 10=Mixed or Uncertain, 11=Ice; \n",
    "    #(7) Spare: 0=TBD, 1=TBD;\n",
    "    #(8) Sunglint Flag: 0=Yes, 1=No; \n",
    "    #(9) Snow Ice Background Possibility Flag: 0=Yes, 1=No; \n",
    "    #(11,10) Land/Water Flag: 00=Water, 01=Coastal, 10=TBD, 11=Land; \n",
    "    #(12) SOZ>80 or SAZ>70: 0=Yes, 1=No; \n",
    "    #(13) Subpixel Inhomogeneity Flag: 0=Yes, 1=No; \n",
    "    #(14) Multilayer Cloud Flag: 0=Yes, 1=No; \n",
    "    #(15) Inversion Layer Flag: 0=Yes, 1=No;\" ;\n",
    "    #\n",
    "    fmask=xr.ones_like(mask)\n",
    "    ### (2,1,0) Cloud Retrieval Algorithm Flag\n",
    "    code=[]\n",
    "    for i in xrange(3):\n",
    "        code.append(rint(fmod(mask,2)))\n",
    "        mask=mask//2\n",
    "    fmask = fmask.where( (code[0]==0) & (code[1]==1) & (code[2]==0))\n",
    "    ### (4,3) Cloud Mask Confidence Level Flag: 00=Clear, 01=Probably Clear, 10=Probably Cloudy, 11=Cloudy;\n",
    "    code=[]\n",
    "    for i in xrange(2):\n",
    "        code.append(rint(fmod(mask,2)))\n",
    "        mask=mask//2\n",
    "    #fmask = fmask.where( (code[0]==0) & (code[1]==0) )\n",
    "    #fmask = fmask.where( code[1]==1 )\n",
    "    ### skips next\n",
    "    for i in xrange(5):\n",
    "        mask=mask//2\n",
    "    ### (11,10) Land/Water Flag: 00=Water, 01=Coastal, 10=TBD, 11=Land; \n",
    "    code=[]\n",
    "    for i in xrange(2):\n",
    "        code.append(rint(fmod(mask,2)))\n",
    "    #    #code.append(np.rint(mask%2))\n",
    "        mask=mask//2\n",
    "    fmask = fmask.where( (code[0]==0) & (code[1]==0) )\n",
    "    \n",
    "    return fmask\n",
    "\n",
    "\n",
    "fmask = process_mask(mask)\n",
    "fmask = fmask.fillna(0.)\n"
   ]
  },
  {
   "cell_type": "code",
   "execution_count": 38,
   "metadata": {},
   "outputs": [],
   "source": [
    "# plot one snapshot\n",
    "\n",
    "# note, can't download coastlines from cluster nodes:\n",
    "# wget http://naciscdn.org/naturalearth/110m/physical/ne_110m_coastline.zip\n",
    "# (unzip, rename)\n",
    "# mv 110m_coastline.* ~/.local/share/cartopy/shapefiles/natural_earth/physical/\n",
    "\n",
    "def plot_mask(mask, colorbar=False, title=None):\n",
    "    plt.figure(figsize=(10,10))\n",
    "    ax = plt.axes(projection=ccrs.Geostationary(central_longitude=140.0));    \n",
    "    mask.plot.pcolormesh(ax=ax, transform=ccrs.PlateCarree(),\n",
    "                         x='longitude', y='latitude', add_colorbar=colorbar);\n",
    "    ax.coastlines(color='w')\n",
    "    if title is None:\n",
    "        #date = str(time[0]).split(':00.')[0].replace('T',' ')\n",
    "        date = str(time[0])\n",
    "        ax.set_title('HW cloud mask, '+date)\n",
    "    else:\n",
    "        ax.set_title(title)\n",
    "    #plt.show()\n",
    "\n",
    "# plot\n",
    "plot_mask(fmask)\n",
    "plt.savefig('figs/hw_snapshot.png')\n"
   ]
  },
  {
   "cell_type": "code",
   "execution_count": 50,
   "metadata": {},
   "outputs": [
    {
     "name": "stdout",
     "output_type": "stream",
     "text": [
      "[  80.           80.05000305   80.09999847 ...,  199.8999939   199.95001221\n",
      "  200.        ]\n",
      "[ 60.          59.95000076  59.90000153 ..., -59.90000153 -59.95000458 -60.        ]\n",
      "<xarray.DataArray 'QA' (latitude_bins: 119)>\n",
      "dask.array<getitem, shape=(119,), dtype=float64, chunksize=(119,)>\n",
      "Coordinates:\n",
      "  * latitude_bins  (latitude_bins) float64 -59.0 -58.0 -57.0 -56.0 -55.0 ...\n"
     ]
    },
    {
     "data": {
      "image/png": "[encoded data removed]",
      "text/plain": [
       "<matplotlib.figure.Figure at 0x7fff06b1f610>"
      ]
     },
     "metadata": {},
     "output_type": "display_data"
    }
   ],
   "source": [
    "# \n",
    "dl = 1.\n",
    "#mask['longitude'].max().values\n",
    "lon_bins = np.arange(fmask['longitude'].min().values, fmask['longitude'].max().values, dl)\n",
    "lat_bins = np.arange(fmask['latitude'].min().values, fmask['latitude'].max().values, dl)\n",
    "#\n",
    "lon_center = lon_bins[:-1]+dl\n",
    "lat_center = lat_bins[:-1]+dl\n",
    "print fmask['longitude'].values\n",
    "print fmask['latitude'].values\n",
    "mask_gp = fmask.groupby_bins('latitude', lat_bins, labels=lat_center).mean()\n",
    "#\n",
    "print mask_gp\n",
    "plt.figure()\n",
    "mask_gp.plot()\n",
    "plt.show()\n"
   ]
  },
  {
   "cell_type": "code",
   "execution_count": null,
   "metadata": {},
   "outputs": [],
   "source": []
  },
  {
   "cell_type": "code",
   "execution_count": null,
   "metadata": {
    "collapsed": true
   },
   "outputs": [],
   "source": []
  },
  {
   "cell_type": "code",
   "execution_count": null,
   "metadata": {
    "collapsed": true
   },
   "outputs": [],
   "source": []
  }
 ],
 "metadata": {
  "kernelspec": {
   "display_name": "Python 2",
   "language": "python",
   "name": "python2"
  },
  "language_info": {
   "codemirror_mode": {
    "name": "ipython",
    "version": 2
   },
   "file_extension": ".py",
   "mimetype": "text/x-python",
   "name": "python",
   "nbconvert_exporter": "python",
   "pygments_lexer": "ipython2",
   "version": "2.7.13"
  }
 },
 "nbformat": 4,
 "nbformat_minor": 2
}
